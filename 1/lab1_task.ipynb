{
 "cells": [
  {
   "cell_type": "markdown",
   "metadata": {},
   "source": [
    "# Лабораторная №1. Основы предобработки данных "
   ]
  },
  {
   "cell_type": "markdown",
   "metadata": {},
   "source": [
    "Используйте файл своей группы. <br>\n",
    "Загрузите его в DataFrame и ответьте на вопросы, используя инстурменты из файла Preprocessing basics.ipynb (и не только).\n",
    "\n",
    "\n",
    "#### Воспросы\n",
    "1. В какой шкале представлены все признаки в наборе?<br>\n",
    "2. Укажите признак с наименьшей дисперсией.<br>\n",
    "3. Медиана какого признака отличается для двух классов сильнее всего?<br>\n",
    "4. В каком классе больше всего unskilled работников мужского рода?<br>\n",
    "5. Есть ли в наборе признаки с выбросами? Какие?<br>\n",
    "6. Сколько пропущенных значений в наборе? Как они обозначены <br>\n",
    "7. Попытайтесь заполнить пропущенные значения минимум двумя способами.<br>\n",
    "8. Как минимум для одного признака каждого типа постройте диаграмму, которая может помочь его исследовать.<br>\n",
    "9. Проанализируйте взаимосвязи признаков с помощью scatter plot матрицы и тепловой карты корреляций. Какие выводы можно сделать?<br>\n",
    "10. Какой признак(и) имеет смысл стандартизировать? Почему?<br>\n",
    "11. Какой признак(и) (если такой(ие) есть) кажется вам проблематичным? Что бы вы предложили с ним сделать?<br>\n",
    "12. Придумайте 1 новый признак, попытайтесь объяснить, почему он информативный.<br>"
   ]
  },
  {
   "cell_type": "markdown",
   "metadata": {},
   "source": [
    "**German Credit data** <br>\n",
    "This dataset classifies people described by a set of attributes as good or bad credit risks ('class' attribute). <br>\n",
    "1. checking_status -  Status of existing checking account, in Deutsche Mark.\n",
    "2. duration - Duration in months\n",
    "3. credit_history - Credit history (credits taken, paid back duly, delays, critical accounts)\n",
    "4. purpose - Purpose of the credit (car, television,…)\n",
    "5. credit_amount - Credit amount\n",
    "6. savings_status - Status of savings account/bonds, in Deutsche Mark.\n",
    "7. employment - Present employment, in number of years.\n",
    "8. installment_commitment - Installment rate in percentage of disposable income\n",
    "9. personal_status - Personal status (married, single,…) and sex\n",
    "10. other_parties - Other debtors / guarantors\n",
    "11. property_magnitude - Property (e.g. real estate)\n",
    "12. age - Age in years\n",
    "13. other_payment_plans - Other installment plans (banks, stores)\n",
    "14. housing - Housing (rent, own,…)\n",
    "15. existing_credits - Number of existing credits at this bank\n",
    "16. job - Job\n",
    "17. num_dependents - Number of people being liable to provide maintenance for\n",
    "18. own_telephone - Telephone (yes,no)\n",
    "19. foreign_worker - Foreign worker (yes,no)"
   ]
  },
  {
   "cell_type": "code",
   "execution_count": 6,
   "metadata": {},
   "outputs": [],
   "source": [
    "import numpy as np\n",
    "import pandas as pd\n",
    "\n",
    "import matplotlib.pyplot as plt\n",
    "\n",
    "import seaborn as sns\n",
    "\n",
    "from sklearn import datasets\n",
    "from sklearn.preprocessing import MinMaxScaler\n",
    "from sklearn.preprocessing import StandardScaler\n",
    "\n",
    "np.set_printoptions(precision=3)\n",
    "pd.set_option('display.precision', 3)\n",
    "\n",
    "sns.set()"
   ]
  },
  {
   "cell_type": "code",
   "execution_count": 7,
   "metadata": {},
   "outputs": [],
   "source": [
    "path='credit_3530203_80101.csv'\n",
    "credit_df = pd.read_csv(path, index_col=0)"
   ]
  },
  {
   "cell_type": "code",
   "execution_count": 30,
   "metadata": {},
   "outputs": [
    {
     "data": {
      "text/html": [
       "<div>\n",
       "<style scoped>\n",
       "    .dataframe tbody tr th:only-of-type {\n",
       "        vertical-align: middle;\n",
       "    }\n",
       "\n",
       "    .dataframe tbody tr th {\n",
       "        vertical-align: top;\n",
       "    }\n",
       "\n",
       "    .dataframe thead th {\n",
       "        text-align: right;\n",
       "    }\n",
       "</style>\n",
       "<table border=\"1\" class=\"dataframe\">\n",
       "  <thead>\n",
       "    <tr style=\"text-align: right;\">\n",
       "      <th></th>\n",
       "      <th>checking_status</th>\n",
       "      <th>duration</th>\n",
       "      <th>credit_history</th>\n",
       "      <th>credit_amount</th>\n",
       "      <th>employment</th>\n",
       "      <th>personal_status</th>\n",
       "      <th>other_parties</th>\n",
       "      <th>residence_since</th>\n",
       "      <th>property_magnitude</th>\n",
       "      <th>age</th>\n",
       "      <th>housing</th>\n",
       "      <th>existing_credits</th>\n",
       "      <th>job</th>\n",
       "      <th>num_dependents</th>\n",
       "      <th>own_telephone</th>\n",
       "      <th>foreign_worker</th>\n",
       "      <th>class</th>\n",
       "    </tr>\n",
       "  </thead>\n",
       "  <tbody>\n",
       "    <tr>\n",
       "      <th>0</th>\n",
       "      <td>&lt;0</td>\n",
       "      <td>6.0</td>\n",
       "      <td>critical/other existing credit</td>\n",
       "      <td>1169.0</td>\n",
       "      <td>&gt;=7</td>\n",
       "      <td>male single</td>\n",
       "      <td>none</td>\n",
       "      <td>4.0</td>\n",
       "      <td>real estate</td>\n",
       "      <td>67.0</td>\n",
       "      <td>own</td>\n",
       "      <td>2.0</td>\n",
       "      <td>skilled</td>\n",
       "      <td>1.0</td>\n",
       "      <td>yes</td>\n",
       "      <td>yes</td>\n",
       "      <td>good</td>\n",
       "    </tr>\n",
       "    <tr>\n",
       "      <th>1</th>\n",
       "      <td>0&lt;=X&lt;200</td>\n",
       "      <td>48.0</td>\n",
       "      <td>existing paid</td>\n",
       "      <td>5951.0</td>\n",
       "      <td>1&lt;=X&lt;4</td>\n",
       "      <td>female div/dep/mar</td>\n",
       "      <td>none</td>\n",
       "      <td>2.0</td>\n",
       "      <td>real estate</td>\n",
       "      <td>22.0</td>\n",
       "      <td>own</td>\n",
       "      <td>1.0</td>\n",
       "      <td>skilled</td>\n",
       "      <td>1.0</td>\n",
       "      <td>none</td>\n",
       "      <td>yes</td>\n",
       "      <td>bad</td>\n",
       "    </tr>\n",
       "    <tr>\n",
       "      <th>2</th>\n",
       "      <td>no checking</td>\n",
       "      <td>12.0</td>\n",
       "      <td>critical/other existing credit</td>\n",
       "      <td>2096.0</td>\n",
       "      <td>4&lt;=X&lt;7</td>\n",
       "      <td>male single</td>\n",
       "      <td>none</td>\n",
       "      <td>3.0</td>\n",
       "      <td>real estate</td>\n",
       "      <td>49.0</td>\n",
       "      <td>own</td>\n",
       "      <td>1.0</td>\n",
       "      <td>unskilled resident</td>\n",
       "      <td>2.0</td>\n",
       "      <td>none</td>\n",
       "      <td>yes</td>\n",
       "      <td>good</td>\n",
       "    </tr>\n",
       "    <tr>\n",
       "      <th>3</th>\n",
       "      <td>&lt;0</td>\n",
       "      <td>42.0</td>\n",
       "      <td>existing paid</td>\n",
       "      <td>7882.0</td>\n",
       "      <td>4&lt;=X&lt;7</td>\n",
       "      <td>male single</td>\n",
       "      <td>guarantor</td>\n",
       "      <td>4.0</td>\n",
       "      <td>life insurance</td>\n",
       "      <td>45.0</td>\n",
       "      <td>for free</td>\n",
       "      <td>1.0</td>\n",
       "      <td>skilled</td>\n",
       "      <td>2.0</td>\n",
       "      <td>none</td>\n",
       "      <td>yes</td>\n",
       "      <td>good</td>\n",
       "    </tr>\n",
       "    <tr>\n",
       "      <th>4</th>\n",
       "      <td>&lt;0</td>\n",
       "      <td>24.0</td>\n",
       "      <td>delayed previously</td>\n",
       "      <td>4870.0</td>\n",
       "      <td>1&lt;=X&lt;4</td>\n",
       "      <td>male single</td>\n",
       "      <td>none</td>\n",
       "      <td>4.0</td>\n",
       "      <td>no known property</td>\n",
       "      <td>53.0</td>\n",
       "      <td>for free</td>\n",
       "      <td>2.0</td>\n",
       "      <td>skilled</td>\n",
       "      <td>2.0</td>\n",
       "      <td>none</td>\n",
       "      <td>yes</td>\n",
       "      <td>bad</td>\n",
       "    </tr>\n",
       "  </tbody>\n",
       "</table>\n",
       "</div>"
      ],
      "text/plain": [
       "  checking_status  duration                  credit_history  credit_amount  \\\n",
       "0              <0       6.0  critical/other existing credit         1169.0   \n",
       "1        0<=X<200      48.0                   existing paid         5951.0   \n",
       "2     no checking      12.0  critical/other existing credit         2096.0   \n",
       "3              <0      42.0                   existing paid         7882.0   \n",
       "4              <0      24.0              delayed previously         4870.0   \n",
       "\n",
       "  employment     personal_status other_parties  residence_since  \\\n",
       "0        >=7         male single          none              4.0   \n",
       "1     1<=X<4  female div/dep/mar          none              2.0   \n",
       "2     4<=X<7         male single          none              3.0   \n",
       "3     4<=X<7         male single     guarantor              4.0   \n",
       "4     1<=X<4         male single          none              4.0   \n",
       "\n",
       "  property_magnitude   age   housing  existing_credits                 job  \\\n",
       "0        real estate  67.0       own               2.0             skilled   \n",
       "1        real estate  22.0       own               1.0             skilled   \n",
       "2        real estate  49.0       own               1.0  unskilled resident   \n",
       "3     life insurance  45.0  for free               1.0             skilled   \n",
       "4  no known property  53.0  for free               2.0             skilled   \n",
       "\n",
       "   num_dependents own_telephone foreign_worker class  \n",
       "0             1.0           yes            yes  good  \n",
       "1             1.0          none            yes   bad  \n",
       "2             2.0          none            yes  good  \n",
       "3             2.0          none            yes  good  \n",
       "4             2.0          none            yes   bad  "
      ]
     },
     "execution_count": 30,
     "metadata": {},
     "output_type": "execute_result"
    }
   ],
   "source": [
    "credit_df.head()"
   ]
  },
  {
   "cell_type": "markdown",
   "metadata": {},
   "source": [
    "**В какой шкале представлены все признаки в наборе?**\n",
    "\n",
    "credit_history, personal_status other_parties, property_magnitude, housing, job - номинальная\n",
    "\n",
    "credit_amount, age, existing_credits, num_dependents, duration  - абсолютная\n",
    "\n",
    "checking_status, employment - интервальная\n",
    "\n",
    "own_telephone, foreign_worker, class - бинарная\n",
    "\n",
    "residence_since - ???????????????????????????"
   ]
  },
  {
   "cell_type": "code",
   "execution_count": 25,
   "metadata": {},
   "outputs": [
    {
     "data": {
      "text/plain": [
       "credit_amount       8.06082877e+06\n",
       "age                 1.31470379e+02\n",
       "existing_credits    3.23073852e-01\n",
       "num_dependents      1.23305389e-01\n",
       "duration            1.46480343e+02\n",
       "dtype: float64"
      ]
     },
     "execution_count": 25,
     "metadata": {},
     "output_type": "execute_result"
    }
   ],
   "source": [
    "credit_df_abs = credit_df[['credit_amount', 'age', 'existing_credits', 'num_dependents', 'duration']]\n",
    "credit_df_abs.var()"
   ]
  },
  {
   "cell_type": "code",
   "execution_count": 27,
   "metadata": {},
   "outputs": [
    {
     "data": {
      "text/plain": [
       "credit_amount       2848.93956044\n",
       "age                   35.82142857\n",
       "existing_credits       1.39835165\n",
       "num_dependents         1.14010989\n",
       "duration              18.45604396\n",
       "dtype: float64"
      ]
     },
     "execution_count": 27,
     "metadata": {},
     "output_type": "execute_result"
    }
   ],
   "source": [
    "credit_df_abs[credit_df['class'] == 'good'].mean()"
   ]
  },
  {
   "cell_type": "markdown",
   "metadata": {},
   "source": [
    "num_dependents - признак с наименьшей дисперсией"
   ]
  },
  {
   "cell_type": "code",
   "execution_count": 29,
   "metadata": {},
   "outputs": [
    {
     "data": {
      "text/html": [
       "<div>\n",
       "<style scoped>\n",
       "    .dataframe tbody tr th:only-of-type {\n",
       "        vertical-align: middle;\n",
       "    }\n",
       "\n",
       "    .dataframe tbody tr th {\n",
       "        vertical-align: top;\n",
       "    }\n",
       "\n",
       "    .dataframe thead th {\n",
       "        text-align: right;\n",
       "    }\n",
       "</style>\n",
       "<table border=\"1\" class=\"dataframe\">\n",
       "  <thead>\n",
       "    <tr style=\"text-align: right;\">\n",
       "      <th></th>\n",
       "      <th>credit_amount</th>\n",
       "      <th>age</th>\n",
       "      <th>existing_credits</th>\n",
       "      <th>num_dependents</th>\n",
       "      <th>duration</th>\n",
       "    </tr>\n",
       "  </thead>\n",
       "  <tbody>\n",
       "    <tr>\n",
       "      <th>0</th>\n",
       "      <td>2848.93956044</td>\n",
       "      <td>35.82142857</td>\n",
       "      <td>1.39835165</td>\n",
       "      <td>1.14010989</td>\n",
       "      <td>18.45604396</td>\n",
       "    </tr>\n",
       "    <tr>\n",
       "      <th>1</th>\n",
       "      <td>4104.29197080</td>\n",
       "      <td>34.68613139</td>\n",
       "      <td>1.37956204</td>\n",
       "      <td>1.15328467</td>\n",
       "      <td>25.25547445</td>\n",
       "    </tr>\n",
       "  </tbody>\n",
       "</table>\n",
       "</div>"
      ],
      "text/plain": [
       "   credit_amount          age  existing_credits  num_dependents     duration\n",
       "0  2848.93956044  35.82142857        1.39835165      1.14010989  18.45604396\n",
       "1  4104.29197080  34.68613139        1.37956204      1.15328467  25.25547445"
      ]
     },
     "execution_count": 29,
     "metadata": {},
     "output_type": "execute_result"
    }
   ],
   "source": [
    "mean = pd.DataFrame([credit_df_abs[credit_df['class'] == 'good'].mean(), credit_df_abs[credit_df['class'] == 'bad'].mean()])\n",
    "mean"
   ]
  }
 ],
 "metadata": {
  "kernelspec": {
   "display_name": "Python 3 (ipykernel)",
   "language": "python",
   "name": "python3"
  },
  "language_info": {
   "codemirror_mode": {
    "name": "ipython",
    "version": 3
   },
   "file_extension": ".py",
   "mimetype": "text/x-python",
   "name": "python",
   "nbconvert_exporter": "python",
   "pygments_lexer": "ipython3",
   "version": "3.8.3"
  }
 },
 "nbformat": 4,
 "nbformat_minor": 4
}
