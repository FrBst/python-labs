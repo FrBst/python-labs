{
 "cells": [
  {
   "cell_type": "markdown",
   "metadata": {},
   "source": [
    "# Лабораторная №1. Основы предобработки данных "
   ]
  },
  {
   "cell_type": "markdown",
   "metadata": {
    "tags": []
   },
   "source": [
    "Используйте файл своей группы. <br>\n",
    "Загрузите его в DataFrame и ответьте на вопросы, используя инстурменты из файла Preprocessing basics.ipynb (и не только).\n",
    "\n",
    "\n",
    "#### Воспросы\n",
    "1. В какой шкале представлены все признаки в наборе?<br>\n",
    "2. Укажите признак с наименьшей дисперсией.<br>\n",
    "3. Медиана какого признака отличается для двух классов сильнее всего?<br>\n",
    "4. В каком классе больше всего unskilled работников мужского рода?<br>\n",
    "5. Есть ли в наборе признаки с выбросами? Какие?<br>\n",
    "6. Сколько пропущенных значений в наборе? Как они обозначены <br>\n",
    "7. Попытайтесь заполнить пропущенные значения минимум двумя способами.<br>\n",
    "8. Как минимум для одного признака каждого типа постройте диаграмму, которая может помочь его исследовать.<br>\n",
    "9. Проанализируйте взаимосвязи признаков с помощью scatter plot матрицы и тепловой карты корреляций. Какие выводы можно сделать?<br>\n",
    "10. Какой признак(и) имеет смысл стандартизировать? Почему?<br>\n",
    "11. Какой признак(и) (если такой(ие) есть) кажется вам проблематичным? Что бы вы предложили с ним сделать?<br>\n",
    "12. Придумайте 1 новый признак, попытайтесь объяснить, почему он информативный.<br>"
   ]
  },
  {
   "cell_type": "markdown",
   "metadata": {},
   "source": [
    "**German Credit data** <br>\n",
    "This dataset classifies people described by a set of attributes as good or bad credit risks ('class' attribute). <br>\n",
    "1. checking_status -  Status of existing checking account, in Deutsche Mark.\n",
    "2. duration - Duration in months\n",
    "3. credit_history - Credit history (credits taken, paid back duly, delays, critical accounts)\n",
    "4. purpose - Purpose of the credit (car, television,…)\n",
    "5. credit_amount - Credit amount\n",
    "6. savings_status - Status of savings account/bonds, in Deutsche Mark.\n",
    "7. employment - Present employment, in number of years.\n",
    "8. installment_commitment - Installment rate in percentage of disposable income\n",
    "9. personal_status - Personal status (married, single,…) and sex\n",
    "10. other_parties - Other debtors / guarantors\n",
    "11. property_magnitude - Property (e.g. real estate)\n",
    "12. age - Age in years\n",
    "13. other_payment_plans - Other installment plans (banks, stores)\n",
    "14. housing - Housing (rent, own,…)\n",
    "15. existing_credits - Number of existing credits at this bank\n",
    "16. job - Job\n",
    "17. num_dependents - Number of people being liable to provide maintenance for\n",
    "18. own_telephone - Telephone (yes,no)\n",
    "19. foreign_worker - Foreign worker (yes,no)"
   ]
  },
  {
   "cell_type": "code",
   "execution_count": 1,
   "metadata": {},
   "outputs": [],
   "source": [
    "import numpy as np\n",
    "import pandas as pd\n",
    "\n",
    "import matplotlib.pyplot as plt\n",
    "\n",
    "import seaborn as sns\n",
    "\n",
    "from sklearn import datasets\n",
    "from sklearn.preprocessing import MinMaxScaler\n",
    "from sklearn.preprocessing import StandardScaler\n",
    "\n",
    "np.set_printoptions(precision=3)\n",
    "pd.set_option('display.precision', 3)\n",
    "\n",
    "sns.set()"
   ]
  },
  {
   "cell_type": "code",
   "execution_count": 2,
   "metadata": {},
   "outputs": [],
   "source": [
    "path='credit_3530203_80101.csv'\n",
    "credit_df = pd.read_csv(path, index_col=0)"
   ]
  },
  {
   "cell_type": "code",
   "execution_count": 3,
   "metadata": {},
   "outputs": [
    {
     "data": {
      "text/html": [
       "<div>\n",
       "<style scoped>\n",
       "    .dataframe tbody tr th:only-of-type {\n",
       "        vertical-align: middle;\n",
       "    }\n",
       "\n",
       "    .dataframe tbody tr th {\n",
       "        vertical-align: top;\n",
       "    }\n",
       "\n",
       "    .dataframe thead th {\n",
       "        text-align: right;\n",
       "    }\n",
       "</style>\n",
       "<table border=\"1\" class=\"dataframe\">\n",
       "  <thead>\n",
       "    <tr style=\"text-align: right;\">\n",
       "      <th></th>\n",
       "      <th>checking_status</th>\n",
       "      <th>duration</th>\n",
       "      <th>credit_history</th>\n",
       "      <th>credit_amount</th>\n",
       "      <th>employment</th>\n",
       "      <th>personal_status</th>\n",
       "      <th>other_parties</th>\n",
       "      <th>residence_since</th>\n",
       "      <th>property_magnitude</th>\n",
       "      <th>age</th>\n",
       "      <th>housing</th>\n",
       "      <th>existing_credits</th>\n",
       "      <th>job</th>\n",
       "      <th>num_dependents</th>\n",
       "      <th>own_telephone</th>\n",
       "      <th>foreign_worker</th>\n",
       "      <th>class</th>\n",
       "    </tr>\n",
       "  </thead>\n",
       "  <tbody>\n",
       "    <tr>\n",
       "      <th>66</th>\n",
       "      <td>no checking</td>\n",
       "      <td>12.0</td>\n",
       "      <td>existing paid</td>\n",
       "      <td>2171.0</td>\n",
       "      <td>&lt;1</td>\n",
       "      <td>female div/dep/mar</td>\n",
       "      <td>none</td>\n",
       "      <td>2.0</td>\n",
       "      <td>car</td>\n",
       "      <td>29.0</td>\n",
       "      <td>own</td>\n",
       "      <td>1.0</td>\n",
       "      <td>skilled</td>\n",
       "      <td>1.0</td>\n",
       "      <td>none</td>\n",
       "      <td>yes</td>\n",
       "      <td>good</td>\n",
       "    </tr>\n",
       "    <tr>\n",
       "      <th>413</th>\n",
       "      <td>no checking</td>\n",
       "      <td>10.0</td>\n",
       "      <td>existing paid</td>\n",
       "      <td>1597.0</td>\n",
       "      <td>1&lt;=X&lt;4</td>\n",
       "      <td>male single</td>\n",
       "      <td>none</td>\n",
       "      <td>2.0</td>\n",
       "      <td>no known property</td>\n",
       "      <td>40.0</td>\n",
       "      <td>rent</td>\n",
       "      <td>1.0</td>\n",
       "      <td>unskilled resident</td>\n",
       "      <td>2.0</td>\n",
       "      <td>none</td>\n",
       "      <td>no</td>\n",
       "      <td>good</td>\n",
       "    </tr>\n",
       "    <tr>\n",
       "      <th>176</th>\n",
       "      <td>&lt;0</td>\n",
       "      <td>12.0</td>\n",
       "      <td>existing paid</td>\n",
       "      <td>2577.0</td>\n",
       "      <td>1&lt;=X&lt;4</td>\n",
       "      <td>male div/sep</td>\n",
       "      <td>none</td>\n",
       "      <td>1.0</td>\n",
       "      <td>car</td>\n",
       "      <td>42.0</td>\n",
       "      <td>own</td>\n",
       "      <td>1.0</td>\n",
       "      <td>skilled</td>\n",
       "      <td>1.0</td>\n",
       "      <td>none</td>\n",
       "      <td>yes</td>\n",
       "      <td>good</td>\n",
       "    </tr>\n",
       "    <tr>\n",
       "      <th>274</th>\n",
       "      <td>&lt;0</td>\n",
       "      <td>30.0</td>\n",
       "      <td>existing paid</td>\n",
       "      <td>11998.0</td>\n",
       "      <td>&lt;1</td>\n",
       "      <td>male div/sep</td>\n",
       "      <td>none</td>\n",
       "      <td>1.0</td>\n",
       "      <td>no known property</td>\n",
       "      <td>34.0</td>\n",
       "      <td>own</td>\n",
       "      <td>1.0</td>\n",
       "      <td>unskilled resident</td>\n",
       "      <td>1.0</td>\n",
       "      <td>yes</td>\n",
       "      <td>yes</td>\n",
       "      <td>bad</td>\n",
       "    </tr>\n",
       "    <tr>\n",
       "      <th>258</th>\n",
       "      <td>no checking</td>\n",
       "      <td>15.0</td>\n",
       "      <td>existing paid</td>\n",
       "      <td>3812.0</td>\n",
       "      <td>&lt;1</td>\n",
       "      <td>female div/dep/mar</td>\n",
       "      <td>none</td>\n",
       "      <td>4.0</td>\n",
       "      <td>car</td>\n",
       "      <td>23.0</td>\n",
       "      <td>own</td>\n",
       "      <td>1.0</td>\n",
       "      <td>skilled</td>\n",
       "      <td>1.0</td>\n",
       "      <td>yes</td>\n",
       "      <td>yes</td>\n",
       "      <td>good</td>\n",
       "    </tr>\n",
       "    <tr>\n",
       "      <th>383</th>\n",
       "      <td>&gt;=200</td>\n",
       "      <td>12.0</td>\n",
       "      <td>existing paid</td>\n",
       "      <td>1330.0</td>\n",
       "      <td>&lt;1</td>\n",
       "      <td>male single</td>\n",
       "      <td>none</td>\n",
       "      <td>1.0</td>\n",
       "      <td>real estate</td>\n",
       "      <td>26.0</td>\n",
       "      <td>own</td>\n",
       "      <td>1.0</td>\n",
       "      <td>skilled</td>\n",
       "      <td>1.0</td>\n",
       "      <td>none</td>\n",
       "      <td>yes</td>\n",
       "      <td>good</td>\n",
       "    </tr>\n",
       "    <tr>\n",
       "      <th>41</th>\n",
       "      <td>0&lt;=X&lt;200</td>\n",
       "      <td>12.0</td>\n",
       "      <td>existing paid</td>\n",
       "      <td>1158.0</td>\n",
       "      <td>1&lt;=X&lt;4</td>\n",
       "      <td>male div/sep</td>\n",
       "      <td>none</td>\n",
       "      <td>1.0</td>\n",
       "      <td>car</td>\n",
       "      <td>26.0</td>\n",
       "      <td>own</td>\n",
       "      <td>1.0</td>\n",
       "      <td>skilled</td>\n",
       "      <td>1.0</td>\n",
       "      <td>yes</td>\n",
       "      <td>yes</td>\n",
       "      <td>good</td>\n",
       "    </tr>\n",
       "    <tr>\n",
       "      <th>267</th>\n",
       "      <td>no checking</td>\n",
       "      <td>24.0</td>\n",
       "      <td>existing paid</td>\n",
       "      <td>1533.0</td>\n",
       "      <td>&lt;1</td>\n",
       "      <td>female div/dep/mar</td>\n",
       "      <td>none</td>\n",
       "      <td>3.0</td>\n",
       "      <td>car</td>\n",
       "      <td>38.0</td>\n",
       "      <td>own</td>\n",
       "      <td>1.0</td>\n",
       "      <td>skilled</td>\n",
       "      <td>1.0</td>\n",
       "      <td>yes</td>\n",
       "      <td>yes</td>\n",
       "      <td>good</td>\n",
       "    </tr>\n",
       "    <tr>\n",
       "      <th>409</th>\n",
       "      <td>&gt;=200</td>\n",
       "      <td>12.0</td>\n",
       "      <td>critical/other existing credit</td>\n",
       "      <td>939.0</td>\n",
       "      <td>4&lt;=X&lt;7</td>\n",
       "      <td>male mar/wid</td>\n",
       "      <td>none</td>\n",
       "      <td>2.0</td>\n",
       "      <td>real estate</td>\n",
       "      <td>28.0</td>\n",
       "      <td>own</td>\n",
       "      <td>3.0</td>\n",
       "      <td>skilled</td>\n",
       "      <td>1.0</td>\n",
       "      <td>yes</td>\n",
       "      <td>yes</td>\n",
       "      <td>bad</td>\n",
       "    </tr>\n",
       "    <tr>\n",
       "      <th>276</th>\n",
       "      <td>no checking</td>\n",
       "      <td>18.0</td>\n",
       "      <td>critical/other existing credit</td>\n",
       "      <td>2404.0</td>\n",
       "      <td>1&lt;=X&lt;4</td>\n",
       "      <td>female div/dep/mar</td>\n",
       "      <td>none</td>\n",
       "      <td>-1.0</td>\n",
       "      <td>car</td>\n",
       "      <td>26.0</td>\n",
       "      <td>own</td>\n",
       "      <td>2.0</td>\n",
       "      <td>skilled</td>\n",
       "      <td>1.0</td>\n",
       "      <td>none</td>\n",
       "      <td>yes</td>\n",
       "      <td>good</td>\n",
       "    </tr>\n",
       "  </tbody>\n",
       "</table>\n",
       "</div>"
      ],
      "text/plain": [
       "    checking_status  duration                  credit_history  credit_amount  \\\n",
       "66      no checking      12.0                   existing paid         2171.0   \n",
       "413     no checking      10.0                   existing paid         1597.0   \n",
       "176              <0      12.0                   existing paid         2577.0   \n",
       "274              <0      30.0                   existing paid        11998.0   \n",
       "258     no checking      15.0                   existing paid         3812.0   \n",
       "383           >=200      12.0                   existing paid         1330.0   \n",
       "41         0<=X<200      12.0                   existing paid         1158.0   \n",
       "267     no checking      24.0                   existing paid         1533.0   \n",
       "409           >=200      12.0  critical/other existing credit          939.0   \n",
       "276     no checking      18.0  critical/other existing credit         2404.0   \n",
       "\n",
       "    employment     personal_status other_parties  residence_since  \\\n",
       "66          <1  female div/dep/mar          none              2.0   \n",
       "413     1<=X<4         male single          none              2.0   \n",
       "176     1<=X<4        male div/sep          none              1.0   \n",
       "274         <1        male div/sep          none              1.0   \n",
       "258         <1  female div/dep/mar          none              4.0   \n",
       "383         <1         male single          none              1.0   \n",
       "41      1<=X<4        male div/sep          none              1.0   \n",
       "267         <1  female div/dep/mar          none              3.0   \n",
       "409     4<=X<7        male mar/wid          none              2.0   \n",
       "276     1<=X<4  female div/dep/mar          none             -1.0   \n",
       "\n",
       "    property_magnitude   age housing  existing_credits                 job  \\\n",
       "66                 car  29.0     own               1.0             skilled   \n",
       "413  no known property  40.0    rent               1.0  unskilled resident   \n",
       "176                car  42.0     own               1.0             skilled   \n",
       "274  no known property  34.0     own               1.0  unskilled resident   \n",
       "258                car  23.0     own               1.0             skilled   \n",
       "383        real estate  26.0     own               1.0             skilled   \n",
       "41                 car  26.0     own               1.0             skilled   \n",
       "267                car  38.0     own               1.0             skilled   \n",
       "409        real estate  28.0     own               3.0             skilled   \n",
       "276                car  26.0     own               2.0             skilled   \n",
       "\n",
       "     num_dependents own_telephone foreign_worker class  \n",
       "66              1.0          none            yes  good  \n",
       "413             2.0          none             no  good  \n",
       "176             1.0          none            yes  good  \n",
       "274             1.0           yes            yes   bad  \n",
       "258             1.0           yes            yes  good  \n",
       "383             1.0          none            yes  good  \n",
       "41              1.0           yes            yes  good  \n",
       "267             1.0           yes            yes  good  \n",
       "409             1.0           yes            yes   bad  \n",
       "276             1.0          none            yes  good  "
      ]
     },
     "execution_count": 3,
     "metadata": {},
     "output_type": "execute_result"
    }
   ],
   "source": [
    "credit_df.sample(10)"
   ]
  },
  {
   "cell_type": "markdown",
   "metadata": {},
   "source": [
    "**В какой шкале представлены все признаки в наборе?**\n",
    "\n",
    "credit_history, personal_status other_parties, property_magnitude, housing, job - номинальная\n",
    "\n",
    "credit_amount, age, existing_credits, num_dependents, duration  - абсолютная\n",
    "\n",
    "checking_status, employment - интервальная\n",
    "\n",
    "own_telephone, foreign_worker, class - бинарная\n",
    "\n",
    "residence_since - абсолютная?"
   ]
  },
  {
   "cell_type": "markdown",
   "metadata": {},
   "source": [
    "**Укажите признак с наименьшей дисперсией**"
   ]
  },
  {
   "cell_type": "code",
   "execution_count": 4,
   "metadata": {},
   "outputs": [
    {
     "data": {
      "text/plain": [
       "credit_amount       8.061e+06\n",
       "residence_since     1.351e+00\n",
       "age                 1.315e+02\n",
       "existing_credits    3.231e-01\n",
       "num_dependents      1.233e-01\n",
       "duration            1.465e+02\n",
       "dtype: float64"
      ]
     },
     "execution_count": 4,
     "metadata": {},
     "output_type": "execute_result"
    }
   ],
   "source": [
    "credit_df_abs = credit_df[['credit_amount', 'residence_since', 'age', 'existing_credits', 'num_dependents', 'duration']]\n",
    "var = credit_df_abs.var()\n",
    "var"
   ]
  },
  {
   "cell_type": "markdown",
   "metadata": {},
   "source": [
    "num_dependents - признак с наименьшей дисперсией"
   ]
  },
  {
   "cell_type": "markdown",
   "metadata": {},
   "source": [
    "**Медиана какого признака отличается для двух классов сильнее всего?**"
   ]
  },
  {
   "cell_type": "code",
   "execution_count": 7,
   "metadata": {},
   "outputs": [
    {
     "data": {
      "text/html": [
       "<div>\n",
       "<style scoped>\n",
       "    .dataframe tbody tr th:only-of-type {\n",
       "        vertical-align: middle;\n",
       "    }\n",
       "\n",
       "    .dataframe tbody tr th {\n",
       "        vertical-align: top;\n",
       "    }\n",
       "\n",
       "    .dataframe thead th {\n",
       "        text-align: right;\n",
       "    }\n",
       "</style>\n",
       "<table border=\"1\" class=\"dataframe\">\n",
       "  <thead>\n",
       "    <tr style=\"text-align: right;\">\n",
       "      <th></th>\n",
       "      <th>good</th>\n",
       "      <th>bad</th>\n",
       "    </tr>\n",
       "  </thead>\n",
       "  <tbody>\n",
       "    <tr>\n",
       "      <th>credit_amount</th>\n",
       "      <td>2138.5</td>\n",
       "      <td>2762.0</td>\n",
       "    </tr>\n",
       "    <tr>\n",
       "      <th>residence_since</th>\n",
       "      <td>3.0</td>\n",
       "      <td>3.0</td>\n",
       "    </tr>\n",
       "    <tr>\n",
       "      <th>age</th>\n",
       "      <td>34.0</td>\n",
       "      <td>31.0</td>\n",
       "    </tr>\n",
       "    <tr>\n",
       "      <th>existing_credits</th>\n",
       "      <td>1.0</td>\n",
       "      <td>1.0</td>\n",
       "    </tr>\n",
       "    <tr>\n",
       "      <th>num_dependents</th>\n",
       "      <td>1.0</td>\n",
       "      <td>1.0</td>\n",
       "    </tr>\n",
       "    <tr>\n",
       "      <th>duration</th>\n",
       "      <td>15.0</td>\n",
       "      <td>24.0</td>\n",
       "    </tr>\n",
       "  </tbody>\n",
       "</table>\n",
       "</div>"
      ],
      "text/plain": [
       "                    good     bad\n",
       "credit_amount     2138.5  2762.0\n",
       "residence_since      3.0     3.0\n",
       "age                 34.0    31.0\n",
       "existing_credits     1.0     1.0\n",
       "num_dependents       1.0     1.0\n",
       "duration            15.0    24.0"
      ]
     },
     "execution_count": 7,
     "metadata": {},
     "output_type": "execute_result"
    }
   ],
   "source": [
    "median = pd.DataFrame({'good': credit_df_abs[credit_df['class'] == 'good'].median(), 'bad': credit_df_abs[credit_df['class'] == 'bad'].median()})\n",
    "median"
   ]
  },
  {
   "cell_type": "markdown",
   "metadata": {},
   "source": [
    "Самая большая разница - в размере кредита"
   ]
  },
  {
   "cell_type": "code",
   "execution_count": null,
   "metadata": {},
   "outputs": [
    {
     "data": {
      "text/html": [
       "<div>\n",
       "<style scoped>\n",
       "    .dataframe tbody tr th:only-of-type {\n",
       "        vertical-align: middle;\n",
       "    }\n",
       "\n",
       "    .dataframe tbody tr th {\n",
       "        vertical-align: top;\n",
       "    }\n",
       "\n",
       "    .dataframe thead th {\n",
       "        text-align: right;\n",
       "    }\n",
       "</style>\n",
       "<table border=\"1\" class=\"dataframe\">\n",
       "  <thead>\n",
       "    <tr style=\"text-align: right;\">\n",
       "      <th></th>\n",
       "      <th>0</th>\n",
       "    </tr>\n",
       "  </thead>\n",
       "  <tbody>\n",
       "    <tr>\n",
       "      <th>credit_amount</th>\n",
       "      <td>7.735e-05</td>\n",
       "    </tr>\n",
       "    <tr>\n",
       "      <th>residence_since</th>\n",
       "      <td>0.000e+00</td>\n",
       "    </tr>\n",
       "    <tr>\n",
       "      <th>age</th>\n",
       "      <td>2.282e-02</td>\n",
       "    </tr>\n",
       "    <tr>\n",
       "      <th>existing_credits</th>\n",
       "      <td>0.000e+00</td>\n",
       "    </tr>\n",
       "    <tr>\n",
       "      <th>num_dependents</th>\n",
       "      <td>0.000e+00</td>\n",
       "    </tr>\n",
       "    <tr>\n",
       "      <th>duration</th>\n",
       "      <td>6.144e-02</td>\n",
       "    </tr>\n",
       "  </tbody>\n",
       "</table>\n",
       "</div>"
      ],
      "text/plain": [
       "                          0\n",
       "credit_amount     7.735e-05\n",
       "residence_since   0.000e+00\n",
       "age               2.282e-02\n",
       "existing_credits  0.000e+00\n",
       "num_dependents    0.000e+00\n",
       "duration          6.144e-02"
      ]
     },
     "execution_count": 9,
     "metadata": {},
     "output_type": "execute_result"
    }
   ],
   "source": [
    "diff = pd.DataFrame(abs(median['good'] - median['bad']) / var)\n",
    "diff"
   ]
  },
  {
   "cell_type": "markdown",
   "metadata": {},
   "source": [
    "Но после стандартизации - срок кредита"
   ]
  },
  {
   "cell_type": "markdown",
   "metadata": {},
   "source": [
    "**В каком классе больше всего unskilled работников мужского рода?**"
   ]
  },
  {
   "cell_type": "code",
   "execution_count": null,
   "metadata": {},
   "outputs": [
    {
     "data": {
      "text/plain": [
       "skilled                      0.637\n",
       "unskilled resident           0.209\n",
       "high qualif/self emp/mgmt    0.135\n",
       "unemp/unskilled non res      0.019\n",
       "Name: job, dtype: float64"
      ]
     },
     "execution_count": 10,
     "metadata": {},
     "output_type": "execute_result"
    }
   ],
   "source": [
    "credit_df[credit_df['class'] == 'good']['job'].value_counts() / credit_df[credit_df['class'] == 'good']['job'].count()"
   ]
  },
  {
   "cell_type": "code",
   "execution_count": null,
   "metadata": {},
   "outputs": [
    {
     "data": {
      "text/plain": [
       "skilled                      0.584\n",
       "high qualif/self emp/mgmt    0.241\n",
       "unskilled resident           0.146\n",
       "unemp/unskilled non res      0.029\n",
       "Name: job, dtype: float64"
      ]
     },
     "execution_count": 11,
     "metadata": {},
     "output_type": "execute_result"
    }
   ],
   "source": [
    "credit_df[credit_df['class'] == 'bad']['job'].value_counts() / credit_df[credit_df['class'] == 'bad']['job'].count()"
   ]
  },
  {
   "cell_type": "markdown",
   "metadata": {},
   "source": [
    "Доля unskilled больше для класса bad "
   ]
  },
  {
   "cell_type": "markdown",
   "metadata": {},
   "source": [
    "**Есть ли в наборе признаки с выбросами? Какие?**"
   ]
  },
  {
   "cell_type": "code",
   "execution_count": 16,
   "metadata": {},
   "outputs": [
    {
     "data": {
      "text/plain": [
       "array([[<AxesSubplot:title={'center':'duration'}>,\n",
       "        <AxesSubplot:title={'center':'credit_amount'}>],\n",
       "       [<AxesSubplot:title={'center':'residence_since'}>,\n",
       "        <AxesSubplot:title={'center':'age'}>],\n",
       "       [<AxesSubplot:title={'center':'existing_credits'}>,\n",
       "        <AxesSubplot:title={'center':'num_dependents'}>]], dtype=object)"
      ]
     },
     "execution_count": 16,
     "metadata": {},
     "output_type": "execute_result"
    },
    {
     "data": {
      "image/png": "[encoded data removed]",
      "text/plain": [
       "<Figure size 720x720 with 6 Axes>"
      ]
     },
     "metadata": {},
     "output_type": "display_data"
    }
   ],
   "source": [
    "credit_df.hist(figsize=(10, 10))"
   ]
  },
  {
   "cell_type": "code",
   "execution_count": 21,
   "metadata": {},
   "outputs": [
    {
     "data": {
      "text/plain": [
       "array([[<AxesSubplot:ylabel='Density'>, <AxesSubplot:ylabel='Density'>,\n",
       "        <AxesSubplot:ylabel='Density'>],\n",
       "       [<AxesSubplot:ylabel='Density'>, <AxesSubplot:ylabel='Density'>,\n",
       "        <AxesSubplot:ylabel='Density'>]], dtype=object)"
      ]
     },
     "execution_count": 21,
     "metadata": {},
     "output_type": "execute_result"
    },
    {
     "data": {
      "image/png": "[encoded data removed]",
      "text/plain": [
       "<Figure size 1080x360 with 6 Axes>"
      ]
     },
     "metadata": {},
     "output_type": "display_data"
    }
   ],
   "source": [
    "credit_df.plot(kind='density', layout=(2, 3), subplots=True,\n",
    "                                    figsize=(15, 5), sharex=False)"
   ]
  },
  {
   "cell_type": "markdown",
   "metadata": {},
   "source": [
    "Выбросов нет"
   ]
  },
  {
   "cell_type": "markdown",
   "metadata": {},
   "source": [
    "**Сколько пропущенных значений в наборе? Как они обозначены**"
   ]
  },
  {
   "cell_type": "code",
   "execution_count": 32,
   "metadata": {},
   "outputs": [
    {
     "name": "stdout",
     "output_type": "stream",
     "text": [
      "checking_status\n",
      "['<0' '0<=X<200' 'no checking' '>=200']\n",
      "\n",
      "class\n",
      "['good' 'bad']\n",
      "\n",
      "credit_history\n",
      "['critical/other existing credit' 'existing paid' 'delayed previously'\n",
      " 'no credits/all paid' 'all paid']\n",
      "\n",
      "employment\n",
      "['>=7' '1<=X<4' '4<=X<7' 'unemployed' '<1']\n",
      "\n",
      "foreign_worker\n",
      "['yes' 'no']\n",
      "\n",
      "housing\n",
      "['own' 'for free' 'rent']\n",
      "\n",
      "job\n",
      "['skilled' 'unskilled resident' 'high qualif/self emp/mgmt'\n",
      " 'unemp/unskilled non res']\n",
      "\n",
      "other_parties\n",
      "['none' 'guarantor' 'co applicant']\n",
      "\n",
      "own_telephone\n",
      "['yes' 'none']\n",
      "\n",
      "personal_status\n",
      "['male single' 'female div/dep/mar' 'male div/sep' 'male mar/wid']\n",
      "\n",
      "property_magnitude\n",
      "['real estate' 'life insurance' 'no known property' 'car']\n",
      "\n"
     ]
    }
   ],
   "source": [
    "nom = credit_df[credit_df.columns.difference(list(credit_df_abs))]\n",
    "for col in nom:\n",
    "    print(col)\n",
    "    print(credit_df[col].unique())\n",
    "    print()"
   ]
  },
  {
   "cell_type": "code",
   "execution_count": 25,
   "metadata": {},
   "outputs": [
    {
     "data": {
      "text/html": [
       "<div>\n",
       "<style scoped>\n",
       "    .dataframe tbody tr th:only-of-type {\n",
       "        vertical-align: middle;\n",
       "    }\n",
       "\n",
       "    .dataframe tbody tr th {\n",
       "        vertical-align: top;\n",
       "    }\n",
       "\n",
       "    .dataframe thead th {\n",
       "        text-align: right;\n",
       "    }\n",
       "</style>\n",
       "<table border=\"1\" class=\"dataframe\">\n",
       "  <thead>\n",
       "    <tr style=\"text-align: right;\">\n",
       "      <th></th>\n",
       "      <th>checking_status</th>\n",
       "      <th>duration</th>\n",
       "      <th>credit_history</th>\n",
       "      <th>credit_amount</th>\n",
       "      <th>employment</th>\n",
       "      <th>personal_status</th>\n",
       "      <th>other_parties</th>\n",
       "      <th>residence_since</th>\n",
       "      <th>property_magnitude</th>\n",
       "      <th>age</th>\n",
       "      <th>housing</th>\n",
       "      <th>existing_credits</th>\n",
       "      <th>job</th>\n",
       "      <th>num_dependents</th>\n",
       "      <th>own_telephone</th>\n",
       "      <th>foreign_worker</th>\n",
       "      <th>class</th>\n",
       "    </tr>\n",
       "  </thead>\n",
       "  <tbody>\n",
       "    <tr>\n",
       "      <th>61</th>\n",
       "      <td>0&lt;=X&lt;200</td>\n",
       "      <td>15.0</td>\n",
       "      <td>critical/other existing credit</td>\n",
       "      <td>1537.0</td>\n",
       "      <td>&gt;=7</td>\n",
       "      <td>male single</td>\n",
       "      <td>guarantor</td>\n",
       "      <td>-1.0</td>\n",
       "      <td>real estate</td>\n",
       "      <td>50.0</td>\n",
       "      <td>own</td>\n",
       "      <td>2.0</td>\n",
       "      <td>skilled</td>\n",
       "      <td>1.0</td>\n",
       "      <td>yes</td>\n",
       "      <td>yes</td>\n",
       "      <td>good</td>\n",
       "    </tr>\n",
       "    <tr>\n",
       "      <th>165</th>\n",
       "      <td>no checking</td>\n",
       "      <td>6.0</td>\n",
       "      <td>existing paid</td>\n",
       "      <td>2978.0</td>\n",
       "      <td>1&lt;=X&lt;4</td>\n",
       "      <td>male single</td>\n",
       "      <td>none</td>\n",
       "      <td>-1.0</td>\n",
       "      <td>car</td>\n",
       "      <td>32.0</td>\n",
       "      <td>own</td>\n",
       "      <td>1.0</td>\n",
       "      <td>skilled</td>\n",
       "      <td>1.0</td>\n",
       "      <td>yes</td>\n",
       "      <td>yes</td>\n",
       "      <td>good</td>\n",
       "    </tr>\n",
       "    <tr>\n",
       "      <th>199</th>\n",
       "      <td>0&lt;=X&lt;200</td>\n",
       "      <td>18.0</td>\n",
       "      <td>delayed previously</td>\n",
       "      <td>4297.0</td>\n",
       "      <td>&gt;=7</td>\n",
       "      <td>male div/sep</td>\n",
       "      <td>none</td>\n",
       "      <td>-1.0</td>\n",
       "      <td>no known property</td>\n",
       "      <td>40.0</td>\n",
       "      <td>own</td>\n",
       "      <td>1.0</td>\n",
       "      <td>high qualif/self emp/mgmt</td>\n",
       "      <td>1.0</td>\n",
       "      <td>yes</td>\n",
       "      <td>yes</td>\n",
       "      <td>bad</td>\n",
       "    </tr>\n",
       "    <tr>\n",
       "      <th>276</th>\n",
       "      <td>no checking</td>\n",
       "      <td>18.0</td>\n",
       "      <td>critical/other existing credit</td>\n",
       "      <td>2404.0</td>\n",
       "      <td>1&lt;=X&lt;4</td>\n",
       "      <td>female div/dep/mar</td>\n",
       "      <td>none</td>\n",
       "      <td>-1.0</td>\n",
       "      <td>car</td>\n",
       "      <td>26.0</td>\n",
       "      <td>own</td>\n",
       "      <td>2.0</td>\n",
       "      <td>skilled</td>\n",
       "      <td>1.0</td>\n",
       "      <td>none</td>\n",
       "      <td>yes</td>\n",
       "      <td>good</td>\n",
       "    </tr>\n",
       "    <tr>\n",
       "      <th>309</th>\n",
       "      <td>0&lt;=X&lt;200</td>\n",
       "      <td>9.0</td>\n",
       "      <td>existing paid</td>\n",
       "      <td>276.0</td>\n",
       "      <td>1&lt;=X&lt;4</td>\n",
       "      <td>male mar/wid</td>\n",
       "      <td>none</td>\n",
       "      <td>-1.0</td>\n",
       "      <td>real estate</td>\n",
       "      <td>22.0</td>\n",
       "      <td>rent</td>\n",
       "      <td>1.0</td>\n",
       "      <td>unskilled resident</td>\n",
       "      <td>1.0</td>\n",
       "      <td>none</td>\n",
       "      <td>yes</td>\n",
       "      <td>good</td>\n",
       "    </tr>\n",
       "  </tbody>\n",
       "</table>\n",
       "</div>"
      ],
      "text/plain": [
       "    checking_status  duration                  credit_history  credit_amount  \\\n",
       "61         0<=X<200      15.0  critical/other existing credit         1537.0   \n",
       "165     no checking       6.0                   existing paid         2978.0   \n",
       "199        0<=X<200      18.0              delayed previously         4297.0   \n",
       "276     no checking      18.0  critical/other existing credit         2404.0   \n",
       "309        0<=X<200       9.0                   existing paid          276.0   \n",
       "\n",
       "    employment     personal_status other_parties  residence_since  \\\n",
       "61         >=7         male single     guarantor             -1.0   \n",
       "165     1<=X<4         male single          none             -1.0   \n",
       "199        >=7        male div/sep          none             -1.0   \n",
       "276     1<=X<4  female div/dep/mar          none             -1.0   \n",
       "309     1<=X<4        male mar/wid          none             -1.0   \n",
       "\n",
       "    property_magnitude   age housing  existing_credits  \\\n",
       "61         real estate  50.0     own               2.0   \n",
       "165                car  32.0     own               1.0   \n",
       "199  no known property  40.0     own               1.0   \n",
       "276                car  26.0     own               2.0   \n",
       "309        real estate  22.0    rent               1.0   \n",
       "\n",
       "                           job  num_dependents own_telephone foreign_worker  \\\n",
       "61                     skilled             1.0           yes            yes   \n",
       "165                    skilled             1.0           yes            yes   \n",
       "199  high qualif/self emp/mgmt             1.0           yes            yes   \n",
       "276                    skilled             1.0          none            yes   \n",
       "309         unskilled resident             1.0          none            yes   \n",
       "\n",
       "    class  \n",
       "61   good  \n",
       "165  good  \n",
       "199   bad  \n",
       "276  good  \n",
       "309  good  "
      ]
     },
     "execution_count": 25,
     "metadata": {},
     "output_type": "execute_result"
    }
   ],
   "source": [
    "credit_df[credit_df['residence_since'] == -1]"
   ]
  },
  {
   "cell_type": "markdown",
   "metadata": {},
   "source": [
    "residence_since - пропущенные заполнены -1"
   ]
  },
  {
   "cell_type": "code",
   "execution_count": 36,
   "metadata": {},
   "outputs": [
    {
     "data": {
      "text/plain": [
       "checking_status       0\n",
       "duration              0\n",
       "credit_history        0\n",
       "credit_amount         0\n",
       "employment            0\n",
       "personal_status       0\n",
       "other_parties         0\n",
       "residence_since       0\n",
       "property_magnitude    0\n",
       "age                   0\n",
       "housing               0\n",
       "existing_credits      0\n",
       "job                   0\n",
       "num_dependents        0\n",
       "own_telephone         0\n",
       "foreign_worker        0\n",
       "class                 0\n",
       "dtype: int64"
      ]
     },
     "execution_count": 36,
     "metadata": {},
     "output_type": "execute_result"
    }
   ],
   "source": [
    "credit_df.isna().sum()"
   ]
  },
  {
   "cell_type": "markdown",
   "metadata": {},
   "source": [
    "NaN в таблице нет"
   ]
  }
 ],
 "metadata": {
  "kernelspec": {
   "display_name": "Python 3 (ipykernel)",
   "language": "python",
   "name": "python3"
  },
  "language_info": {
   "codemirror_mode": {
    "name": "ipython",
    "version": 3
   },
   "file_extension": ".py",
   "mimetype": "text/x-python",
   "name": "python",
   "nbconvert_exporter": "python",
   "pygments_lexer": "ipython3",
   "version": "3.8.3"
  }
 },
 "nbformat": 4,
 "nbformat_minor": 4
}
